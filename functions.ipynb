{
 "cells": [
  {
   "cell_type": "code",
   "execution_count": null,
   "metadata": {},
   "outputs": [],
   "source": [
    "#|default_exp functions"
   ]
  },
  {
   "cell_type": "code",
   "execution_count": 5,
   "metadata": {},
   "outputs": [],
   "source": [
    "#|export\n",
    "import torch "
   ]
  },
  {
   "cell_type": "code",
   "execution_count": null,
   "metadata": {},
   "outputs": [],
   "source": [
    "#|export\n",
    "\n",
    "class Layer: #layer class to save the succession of layers i want\n",
    "    def __init__(self, n_perceptrons, activation=\"relu\"):\n",
    "        self.n_perceptrons=n_perceptrons\n",
    "        self.activation= activation\n",
    "\n",
    "class _Layer: #version that gets defined according to the previous layer output size, should not be used by the user\n",
    "    def __init__(self, size, activation=\"relu\"):\n",
    "        self.size=size\n",
    "        self.weights=2*torch.rand(self.size)-1 #initialize as a matrix random matrix between -1 and 1\n",
    "        self.activation= activation\n",
    "\n",
    "\n",
    "class MLP_Model:\n",
    "    \"\"\"\n",
    "    A class for managing inference on individual vectors.\n",
    "    This class is designed to perform inference on a single vector at a time to simplify understanding and debugging. \n",
    "    Although in real-world applications inference is usually performed on batches of vectors for efficiency, \n",
    "    extending this implementation to handle batches is straightforward. Since derivatives are linear operators, \n",
    "    backpropagation for a batch of vectors is conceptually similar to that for a single vector.\n",
    "    \"\"\"\n",
    "    def __init__(self, layers, input_size ): \n",
    "\n",
    "        self.input_size=input_size\n",
    "\n",
    "        #start creating the layers with the correct matrix size\n",
    "        nrows= input_size\n",
    "        ncolumns=layers[0].n_perceptrons\n",
    "        self.sequence=[_Layer(size=( nrows ,ncolumns), activation= layers[0].activation )]\n",
    "        for layer in layers[1:]:\n",
    "            nrows= ncolumns\n",
    "            ncolumns = layer.n_perceptrons\n",
    "            self.sequence.append(_Layer(size=(nrows ,ncolumns), activation= layer.activation ))\n",
    "\n",
    "    \n",
    "    def predict(vector):\n",
    "        if len(vector) != len(self.input_shape): #input size is not flexible, must correspond to the model one\n",
    "            raise ValueError(\"Length of vector does not match the expected input shape.\")\n",
    "        \n",
    "        for layer in self.sequence:\n",
    "            vector = layer.weights.mv(vector) #matrix vector multiplication of input layers \n",
    "            if layer.activation == \"relu\":\n",
    "                vector=vector.clamp(min=0) #relu activation function\n",
    "            if layer.activation == \"sigmoid\":\n",
    "                vector=vector.sigmoid()\n",
    "        return vector\n",
    "    \n",
    "    def train(train_data, validation_data, results, seed=42):\n",
    "        \n",
    "        return 0\n",
    "            \n",
    "            \n",
    "\n",
    "\n",
    "\n",
    "\n",
    "\n",
    "\n"
   ]
  },
  {
   "cell_type": "code",
   "execution_count": 51,
   "metadata": {},
   "outputs": [
    {
     "name": "stdout",
     "output_type": "stream",
     "text": [
      "Flattened image shape:torch.Size([784]) label:5\n"
     ]
    }
   ],
   "source": [
    "import torch\n",
    "from torchvision import datasets, transforms\n",
    "\n",
    "# Define a transform pipeline that converts the PIL image to a tensor and then flattens it.\n",
    "transform = transforms.Compose([\n",
    "    transforms.ToTensor(),               # Converts PIL image to tensor of shape (1, 28, 28)\n",
    "    transforms.Lambda(lambda x: x.view(-1))  # Flattens the tensor to shape (784,)\n",
    "])\n",
    "\n",
    "# Download and load the MNIST dataset with the defined transform.\n",
    "train_dataset = datasets.MNIST(root='./data', train=True, download=True, transform=transform)\n",
    "test_dataset = datasets.MNIST(root='./data', train=False, download=True, transform=transform)\n",
    "\n",
    "# Check the shape of one sample.\n",
    "sample, label = mnist_dataset[0]\n",
    "print(f\"Flattened image shape:{sample.shape} label:{label}\")  # each image is a torch.Size([784])\n"
   ]
  },
  {
   "cell_type": "code",
   "execution_count": 50,
   "metadata": {},
   "outputs": [],
   "source": [
    "from nbdev.export import nb_export\n",
    "nb_export(nbname=\"functions.ipynb\")"
   ]
  }
 ],
 "metadata": {
  "kernelspec": {
   "display_name": "base",
   "language": "python",
   "name": "python3"
  },
  "language_info": {
   "codemirror_mode": {
    "name": "ipython",
    "version": 3
   },
   "file_extension": ".py",
   "mimetype": "text/x-python",
   "name": "python",
   "nbconvert_exporter": "python",
   "pygments_lexer": "ipython3",
   "version": "3.12.8"
  }
 },
 "nbformat": 4,
 "nbformat_minor": 2
}
