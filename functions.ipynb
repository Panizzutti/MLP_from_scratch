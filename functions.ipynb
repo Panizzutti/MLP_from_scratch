{
 "cells": [
  {
   "cell_type": "code",
   "execution_count": 34,
   "metadata": {},
   "outputs": [],
   "source": [
    "#|default_exp functions"
   ]
  },
  {
   "cell_type": "code",
   "execution_count": 35,
   "metadata": {},
   "outputs": [],
   "source": [
    "#|export\n",
    "import torch "
   ]
  },
  {
   "cell_type": "code",
   "execution_count": 36,
   "metadata": {},
   "outputs": [],
   "source": [
    "def _crossentropy_loss( y_hat , y: int): \n",
    "    return -y_hat[y] + y_hat.exp().sum().log() \n",
    "#calculated skipping the softmax calculation, and instead applying simplified formula \n",
    "\n",
    "#print(_crossentropy_loss(torch.tensor([-10,-10,10,-10]), 2))\n",
    "#print(_crossentropy_loss(torch.tensor([3,15,15,5]), 2))"
   ]
  },
  {
   "cell_type": "code",
   "execution_count": 37,
   "metadata": {},
   "outputs": [],
   "source": [
    "#|export\n",
    "\n",
    "class Layer: #layer class to save the succession of layers i want\n",
    "    def __init__(self, n_perceptrons, activation=\"relu\"):\n",
    "        self.n_perceptrons=n_perceptrons\n",
    "        self.activation= activation\n",
    "\n",
    "class _Layer: #version that gets defined according to the previous layer output size, should not be used by the user\n",
    "    def __init__(self, size, activation=\"relu\"):\n",
    "        self.size=size\n",
    "        self.weights=2*torch.rand(self.size)-1 #initialize as a matrix random matrix between -1 and 1\n",
    "        self.activation= activation\n",
    "\n",
    "\n",
    "class MLP_Model:\n",
    "    \"\"\"\n",
    "    A class for managing inference on individual vectors.\n",
    "    This class is designed to perform inference on a single vector at a time to simplify understanding and debugging. \n",
    "    Although in real-world applications inference is usually performed on batches of vectors for efficiency, \n",
    "    extending this implementation to handle batches is straightforward. Since derivatives are linear operators, \n",
    "    backpropagation for a batch of vectors is conceptually similar to that for a single vector.\n",
    "    \"\"\"\n",
    "    def __init__(self, layers, input_size ): \n",
    "\n",
    "        self.input_size=input_size\n",
    "\n",
    "        #start creating the layers with the correct matrix size\n",
    "        nrows= input_size\n",
    "        ncolumns=layers[0].n_perceptrons\n",
    "        self.sequence=[_Layer(size=(nrows ,ncolumns), activation= layers[0].activation )]\n",
    "        for layer in layers[1:]:\n",
    "            nrows= ncolumns\n",
    "            ncolumns = layer.n_perceptrons\n",
    "            self.sequence.append(_Layer(size=(nrows ,ncolumns), activation= layer.activation ))\n",
    "\n",
    "    \n",
    "    def predict_with_softmax(self, vector):\n",
    "        \n",
    "        if len(vector) != self.input_size: #input size is not flexible, must correspond to the model one\n",
    "            raise ValueError(\"Length of vector does not match the expected input shape.\")\n",
    "        \n",
    "        for layer in self.sequence:\n",
    "            vector = layer.weights.t().mv(vector) #matrix vector multiplication of input layers \n",
    "            if layer.activation == \"relu\":\n",
    "                vector=vector.clamp(min=0) #relu activation function\n",
    "            if layer.activation == \"sigmoid\":\n",
    "                vector=vector.sigmoid()\n",
    "            #if layer.activation == \"none\":\n",
    "        return torch.softmax(vector)\n",
    "    \n",
    "    def _predict(self, vector):\n",
    "        \n",
    "        if len(vector) != self.input_size: #input size is not flexible, must correspond to the model one\n",
    "            raise ValueError(\"Length of vector does not match the expected input shape.\")\n",
    "        vectors=[vector]\n",
    "        for i,layer in enumerate(self.sequence):\n",
    "            vector = layer.weights.t().mv(vector) #matrix vector multiplication of input layers \n",
    "            \n",
    "            if layer.activation == \"relu\":\n",
    "                vector=vector.clamp(min=0) #relu activation function\n",
    "            if layer.activation == \"sigmoid\":\n",
    "                vector=vector.sigmoid()\n",
    "            #if layer.activation == \"none\":\n",
    "            vectors.append(vector)\n",
    "        return vectors\n",
    "    \n",
    "    def _predict_val(self, vector):\n",
    "        if len(vector) != self.input_size: #input size is not flexible, must correspond to the model one\n",
    "            raise ValueError(\"Length of vector does not match the expected input shape.\")\n",
    "        for i,layer in enumerate(self.sequence):\n",
    "            vector = layer.weights.t().mv(vector) #matrix vector multiplication of input layers \n",
    "            \n",
    "            if layer.activation == \"relu\":\n",
    "                vector=vector.clamp(min=0) #relu activation function\n",
    "            if layer.activation == \"sigmoid\":\n",
    "                vector=vector.sigmoid()\n",
    "            #if layer.activation == \"none\":\n",
    "        return vector\n",
    "    \n",
    "    def train(self, train_x, train_y, val_x, val_y, max_epochs=3, seed=42):\n",
    "        #add initial train and validation loss and accuracy\n",
    "        n_train=len(train_x)\n",
    "        n_val=len(train_x)\n",
    "\n",
    "        for epoch in range(max_epochs):\n",
    "            train_loss=0\n",
    "            val_loss =0\n",
    "            for x,y in zip(train_x,train_y): #batch size 1, since it's a simplified, trivial to modify to more\n",
    "                vectors = self._predict(x)\n",
    "                loss= _crossentropy_loss(vectors[-1],y)\n",
    "                #if correct, n_corect += 1\n",
    "                train_loss+=loss/n_train\n",
    "                self._backpropagate_error(vectors,y)\n",
    "            \n",
    "            for x,y in  zip(val_x,val_y):#test validation loss and accuracy\n",
    "                vectors = self._predict(x)\n",
    "                loss = _crossentropy_loss(vectors[-1],y)\n",
    "                #if correct, n_corect += 1\n",
    "                val_loss += loss/n_val\n",
    "            print(f\"\\n\\nepoch {epoch}\\n\\ntrain_loss = {train_loss}\")\n",
    "            print(f\"\\nvalidation_loss = {val_loss}\")\n",
    "    \n",
    "    def _backpropagate_error(self, vectors, y, step_size=0.01):\n",
    "\n",
    "        #relu activation \n",
    "        v=vectors[-1]\n",
    "        dLdzi=v.exp()/v.exp().sum() #notice that dLdzi contains the predicted softmax probabilities\n",
    "        dLdzi[y]-=1 #loss derivative for increasing the correct prediciton is negative, simply subtracting -1 \n",
    "\n",
    "        #now let's see the matrix of weight Wk, the gradient is trivially calculated as\n",
    "         #it's an outer product, because with the chain rule, the previous vector value is involved and the resulting vector gradient is involved\n",
    "        \n",
    "\n",
    "        for i in range(-2,-len(vectors)+1,-1):\n",
    "            #print(f\"layer: {i+1}\\nweights before:\\n{self.sequence[i+1].weights}\")\n",
    "            v=vectors[i]\n",
    "            #now let's see the matrix of weight Wk, the gradient is trivially calculated as\n",
    "            dLdw=torch.outer(dLdzi,v )  #it's an outer product, because with the chain rule, the previous vector value is involved and the resulting vector gradient is involved\n",
    "            \n",
    "            #i calculate chain rule iteratively\n",
    "            mask = (v > 0).to(dtype=dLdzi.dtype) \n",
    "            dLdzi = (self.sequence[i+1].weights.t() @ dLdzi) * mask #compute the gradient for previous z vector, \n",
    "\n",
    "            #each column ith element must be subtracted of the value of the previous vector ith value\n",
    "            self.sequence[i+1].weights -= dLdw*step_size #descend the gradient for the weights \n",
    "            #print(f\"\\nweights after:\\n{self.sequence[i+1].weights}\")\n",
    "\n",
    "\n",
    "\n",
    "\n",
    "\n",
    "\n",
    "\n",
    "\n",
    "\n"
   ]
  },
  {
   "cell_type": "code",
   "execution_count": 38,
   "metadata": {},
   "outputs": [
    {
     "name": "stdout",
     "output_type": "stream",
     "text": [
      "Flattened image shape:torch.Size([784]) label:5\n"
     ]
    }
   ],
   "source": [
    "import torch\n",
    "from torchvision import datasets, transforms\n",
    "\n",
    "# Define a transform pipeline that converts the PIL image to a tensor and then flattens it.\n",
    "transform = transforms.Compose([\n",
    "    transforms.ToTensor(),               # Converts PIL image to tensor of shape (1, 28, 28)\n",
    "    transforms.Lambda(lambda x: x.view(-1))  # Flattens the tensor to shape (784,)\n",
    "])\n",
    "\n",
    "# Download and load the MNIST dataset with the defined transform.\n",
    "train_dataset = datasets.MNIST(root='./data', train=True, download=True, transform=transform)\n",
    "test_dataset = datasets.MNIST(root='./data', train=False, download=True, transform=transform)\n",
    "\n",
    "# Check the shape of one sample.\n",
    "sample, label = train_dataset[0]\n",
    "print(f\"Flattened image shape:{sample.shape} label:{label}\")  # each image is a torch.Size([784])\n",
    "\n"
   ]
  },
  {
   "cell_type": "code",
   "execution_count": 39,
   "metadata": {},
   "outputs": [],
   "source": [
    "sequence = [Layer(10,\"relu\") for _ in range(3)] + [Layer(10,\"none\")]\n",
    "\n",
    "m1= MLP_Model( layers = sequence , input_size= 784)"
   ]
  },
  {
   "cell_type": "code",
   "execution_count": 40,
   "metadata": {},
   "outputs": [
    {
     "name": "stdout",
     "output_type": "stream",
     "text": [
      "\n",
      "\n",
      "epoch 0\n",
      "\n",
      "train_loss = 4.273360729217529\n",
      "\n",
      "validation_loss = 11.063234329223633\n",
      "\n",
      "\n",
      "epoch 1\n",
      "\n",
      "train_loss = 4.247875213623047\n",
      "\n",
      "validation_loss = 10.947446823120117\n",
      "\n",
      "\n",
      "epoch 2\n",
      "\n",
      "train_loss = 4.221408843994141\n",
      "\n",
      "validation_loss = 10.820184707641602\n"
     ]
    }
   ],
   "source": [
    "train_x, train_y =zip(*train_dataset)\n",
    "test_x, test_y =zip(*test_dataset)\n",
    "\n",
    "m1.train(train_x=train_x[:5], train_y=train_y[:5], val_x=test_x[10:15], val_y=test_y[10:15], max_epochs=3, seed=42)"
   ]
  },
  {
   "cell_type": "code",
   "execution_count": null,
   "metadata": {},
   "outputs": [],
   "source": []
  },
  {
   "cell_type": "code",
   "execution_count": 41,
   "metadata": {},
   "outputs": [],
   "source": [
    "from nbdev.export import nb_export\n",
    "nb_export(nbname=\"functions.ipynb\")"
   ]
  },
  {
   "cell_type": "code",
   "execution_count": 42,
   "metadata": {},
   "outputs": [
    {
     "name": "stdout",
     "output_type": "stream",
     "text": [
      "tensor([[5, 6, 7],\n",
      "        [5, 6, 6]])\n",
      "tensor([[4, 5, 6],\n",
      "        [4, 5, 5]])\n"
     ]
    }
   ],
   "source": [
    "a= torch.tensor([[0,1,2],[0,1,1]])\n",
    "b= torch.tensor([1,1,1])\n",
    "print(a +5)\n",
    "print(a+4*b)"
   ]
  },
  {
   "cell_type": "code",
   "execution_count": null,
   "metadata": {},
   "outputs": [],
   "source": []
  }
 ],
 "metadata": {
  "kernelspec": {
   "display_name": "base",
   "language": "python",
   "name": "python3"
  },
  "language_info": {
   "codemirror_mode": {
    "name": "ipython",
    "version": 3
   },
   "file_extension": ".py",
   "mimetype": "text/x-python",
   "name": "python",
   "nbconvert_exporter": "python",
   "pygments_lexer": "ipython3",
   "version": "3.12.8"
  }
 },
 "nbformat": 4,
 "nbformat_minor": 2
}
